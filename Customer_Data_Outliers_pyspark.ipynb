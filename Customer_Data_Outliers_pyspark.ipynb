{
  "nbformat": 4,
  "nbformat_minor": 0,
  "metadata": {
    "colab": {
      "name": "Customer Data Outliers pyspark.ipynb",
      "provenance": [],
      "collapsed_sections": []
    },
    "kernelspec": {
      "name": "python3",
      "display_name": "Python 3"
    },
    "language_info": {
      "name": "python"
    }
  },
  "cells": [
    {
      "cell_type": "markdown",
      "source": [
        "# **Outlier Detection using PYSPARK**\n",
        "\n",
        "---\n",
        "\n",
        "\n",
        "\n",
        "---\n",
        "\n"
      ],
      "metadata": {
        "id": "KoqPBdxxuPMF"
      }
    },
    {
      "cell_type": "markdown",
      "source": [
        "### Installing the PYSPARK module"
      ],
      "metadata": {
        "id": "C03mxzhgt1Hd"
      }
    },
    {
      "cell_type": "code",
      "execution_count": null,
      "metadata": {
        "colab": {
          "base_uri": "https://localhost:8080/"
        },
        "id": "gz-e0sMEKYuz",
        "outputId": "f3e75f84-b3bc-4f1b-b812-3958dbcb8257"
      },
      "outputs": [
        {
          "output_type": "stream",
          "name": "stdout",
          "text": [
            "Requirement already satisfied: pyspark in /usr/local/lib/python3.7/dist-packages (3.2.0)\n",
            "Requirement already satisfied: py4j==0.10.9.2 in /usr/local/lib/python3.7/dist-packages (from pyspark) (0.10.9.2)\n"
          ]
        }
      ],
      "source": [
        "!pip install pyspark"
      ]
    },
    {
      "cell_type": "markdown",
      "source": [
        "### Mounting the google drive datasets"
      ],
      "metadata": {
        "id": "zAaX8GWAuFH7"
      }
    },
    {
      "cell_type": "code",
      "source": [
        "from google.colab import drive\n",
        "drive.mount('/content/datasets')"
      ],
      "metadata": {
        "colab": {
          "base_uri": "https://localhost:8080/"
        },
        "id": "5Qe7LNzdKcZ6",
        "outputId": "02bfc850-a74d-4459-8155-cfe70688f2ce"
      },
      "execution_count": null,
      "outputs": [
        {
          "output_type": "stream",
          "name": "stdout",
          "text": [
            "Drive already mounted at /content/datasets; to attempt to forcibly remount, call drive.mount(\"/content/datasets\", force_remount=True).\n"
          ]
        }
      ]
    },
    {
      "cell_type": "code",
      "source": [
        "# This code creates a filterable and interactive data table like excel for pandas dataframes\n",
        "from google.colab import data_table\n",
        "data_table.enable_dataframe_formatter()"
      ],
      "metadata": {
        "id": "tJSpNDsn88Jx"
      },
      "execution_count": null,
      "outputs": []
    },
    {
      "cell_type": "markdown",
      "source": [
        "### Importing the necessary libraries"
      ],
      "metadata": {
        "id": "C3O8qU0-uv4c"
      }
    },
    {
      "cell_type": "code",
      "source": [
        "import seaborn as sns\n",
        "import matplotlib.pyplot as plt\n",
        "from pyspark.sql import SparkSession\n"
      ],
      "metadata": {
        "id": "sZIysPUuVy78"
      },
      "execution_count": null,
      "outputs": []
    },
    {
      "cell_type": "markdown",
      "source": [
        "### Creating a Spark Session"
      ],
      "metadata": {
        "id": "j9A5BTT-u8oH"
      }
    },
    {
      "cell_type": "code",
      "source": [
        "spark = SparkSession.builder.appName('OUTLIER REMOVAL').getOrCreate()\n",
        "spark"
      ],
      "metadata": {
        "colab": {
          "base_uri": "https://localhost:8080/",
          "height": 219
        },
        "id": "ugZFRBtPLIId",
        "outputId": "054c7ad2-c38e-4e38-aaa1-49a7e1f1c36a"
      },
      "execution_count": null,
      "outputs": [
        {
          "output_type": "execute_result",
          "data": {
            "text/html": [
              "\n",
              "            <div>\n",
              "                <p><b>SparkSession - in-memory</b></p>\n",
              "                \n",
              "        <div>\n",
              "            <p><b>SparkContext</b></p>\n",
              "\n",
              "            <p><a href=\"http://db90fb22b27f:4040\">Spark UI</a></p>\n",
              "\n",
              "            <dl>\n",
              "              <dt>Version</dt>\n",
              "                <dd><code>v3.2.0</code></dd>\n",
              "              <dt>Master</dt>\n",
              "                <dd><code>local[*]</code></dd>\n",
              "              <dt>AppName</dt>\n",
              "                <dd><code>ucla_project</code></dd>\n",
              "            </dl>\n",
              "        </div>\n",
              "        \n",
              "            </div>\n",
              "        "
            ],
            "text/plain": [
              "<pyspark.sql.session.SparkSession at 0x7fce95c016d0>"
            ]
          },
          "metadata": {},
          "execution_count": 6
        }
      ]
    },
    {
      "cell_type": "markdown",
      "source": [
        "### Reading the dataset from Google Drive using spark session"
      ],
      "metadata": {
        "id": "lairZ41YvEor"
      }
    },
    {
      "cell_type": "code",
      "source": [
        "df = spark.read.csv('/content/datasets/MyDrive/Datasets/UCLA_Module2_FinalProject/customer_data.csv',header = True)\n",
        "df.show()"
      ],
      "metadata": {
        "colab": {
          "base_uri": "https://localhost:8080/"
        },
        "id": "6RLsnyDvLPbV",
        "outputId": "754654ac-083c-4b87-9f3b-2ea45c33002f"
      },
      "execution_count": null,
      "outputs": [
        {
          "output_type": "stream",
          "name": "stdout",
          "text": [
            "+-------+------+-----+-----+-------+------+----------------+------------+\n",
            "|Channel|Region|Fresh| Milk|Grocery|Frozen|Detergents_Paper|Delicatessen|\n",
            "+-------+------+-----+-----+-------+------+----------------+------------+\n",
            "|      2|     3|12669| 9656|   7561|   214|            2674|        1338|\n",
            "|      2|     3| 7057| 9810|   9568|  1762|            3293|        1776|\n",
            "|      2|     3| 6353| 8808|   7684|  2405|            3516|        7844|\n",
            "|      1|     3|13265| 1196|   4221|  6404|             507|        1788|\n",
            "|      2|     3|22615| 5410|   7198|  3915|            1777|        5185|\n",
            "|      2|     3| 9413| 8259|   5126|   666|            1795|        1451|\n",
            "|      2|     3|12126| 3199|   6975|   480|            3140|         545|\n",
            "|      2|     3| 7579| 4956|   9426|  1669|            3321|        2566|\n",
            "|      1|     3| 5963| 3648|   6192|   425|            1716|         750|\n",
            "|      2|     3| 6006|11093|  18881|  1159|            7425|        2098|\n",
            "|      2|     3| 3366| 5403|  12974|  4400|            5977|        1744|\n",
            "|      2|     3|13146| 1124|   4523|  1420|             549|         497|\n",
            "|      2|     3|31714|12319|  11757|   287|            3881|        2931|\n",
            "|      2|     3|21217| 6208|  14982|  3095|            6707|         602|\n",
            "|      2|     3|24653| 9465|  12091|   294|            5058|        2168|\n",
            "|      1|     3|10253| 1114|   3821|   397|             964|         412|\n",
            "|      2|     3| 1020| 8816|  12121|   134|            4508|        1080|\n",
            "|      1|     3| 5876| 6157|   2933|   839|             370|        4478|\n",
            "|      2|     3|18601| 6327|  10099|  2205|            2767|        3181|\n",
            "|      1|     3| 7780| 2495|   9464|   669|            2518|         501|\n",
            "+-------+------+-----+-----+-------+------+----------------+------------+\n",
            "only showing top 20 rows\n",
            "\n"
          ]
        }
      ]
    },
    {
      "cell_type": "markdown",
      "source": [
        "### Counting the number of records"
      ],
      "metadata": {
        "id": "hjs0kal9vRGJ"
      }
    },
    {
      "cell_type": "code",
      "source": [
        "df.count()"
      ],
      "metadata": {
        "colab": {
          "base_uri": "https://localhost:8080/"
        },
        "id": "Jyfd2JIrLYzm",
        "outputId": "9de74e67-5bce-4300-f94e-3978bcc280b0"
      },
      "execution_count": null,
      "outputs": [
        {
          "output_type": "execute_result",
          "data": {
            "text/plain": [
              "440"
            ]
          },
          "metadata": {},
          "execution_count": 8
        }
      ]
    },
    {
      "cell_type": "markdown",
      "source": [
        "### Checking the number of columns"
      ],
      "metadata": {
        "id": "Ww3KtDR2vVyb"
      }
    },
    {
      "cell_type": "code",
      "source": [
        "len(df.columns)"
      ],
      "metadata": {
        "colab": {
          "base_uri": "https://localhost:8080/"
        },
        "id": "dsRqNWcILfS-",
        "outputId": "2b249523-3909-42d7-d37f-b8e0564b6da1"
      },
      "execution_count": null,
      "outputs": [
        {
          "output_type": "execute_result",
          "data": {
            "text/plain": [
              "8"
            ]
          },
          "metadata": {},
          "execution_count": 9
        }
      ]
    },
    {
      "cell_type": "markdown",
      "source": [
        "### Printing the schema, to check the datatypes"
      ],
      "metadata": {
        "id": "A_DWebtkvZ9o"
      }
    },
    {
      "cell_type": "markdown",
      "source": [
        "1. All the features are of string data type\n",
        "1. The columns `Channel` & `Region` are categorical features\n",
        "1. Other columns are to be converted into numerical data types"
      ],
      "metadata": {
        "id": "h_aJd7WTwJZ2"
      }
    },
    {
      "cell_type": "code",
      "source": [
        "df.printSchema()"
      ],
      "metadata": {
        "colab": {
          "base_uri": "https://localhost:8080/"
        },
        "id": "_dfujEavLh3s",
        "outputId": "91d0efa5-fb17-4d3b-d71f-0ff9cbd146c3"
      },
      "execution_count": null,
      "outputs": [
        {
          "output_type": "stream",
          "name": "stdout",
          "text": [
            "root\n",
            " |-- Channel: string (nullable = true)\n",
            " |-- Region: string (nullable = true)\n",
            " |-- Fresh: string (nullable = true)\n",
            " |-- Milk: string (nullable = true)\n",
            " |-- Grocery: string (nullable = true)\n",
            " |-- Frozen: string (nullable = true)\n",
            " |-- Detergents_Paper: string (nullable = true)\n",
            " |-- Delicatessen: string (nullable = true)\n",
            "\n"
          ]
        }
      ]
    },
    {
      "cell_type": "markdown",
      "source": [
        "### Segregating the desired columns to convert the data type ino IntegerType"
      ],
      "metadata": {
        "id": "C-3INu1FvgBy"
      }
    },
    {
      "cell_type": "code",
      "source": [
        "numeric_cols = df.columns[2:]\n",
        "numeric_cols"
      ],
      "metadata": {
        "colab": {
          "base_uri": "https://localhost:8080/"
        },
        "id": "c34_RWRGLklD",
        "outputId": "358e6147-12ac-4083-e9d7-08b07452006c"
      },
      "execution_count": null,
      "outputs": [
        {
          "output_type": "execute_result",
          "data": {
            "text/plain": [
              "['Fresh', 'Milk', 'Grocery', 'Frozen', 'Detergents_Paper', 'Delicatessen']"
            ]
          },
          "metadata": {},
          "execution_count": 11
        }
      ]
    },
    {
      "cell_type": "code",
      "source": [
        "from pyspark.sql import functions as f\n",
        "from pyspark.sql.types import IntegerType"
      ],
      "metadata": {
        "id": "i_1aDsHiL5BW"
      },
      "execution_count": null,
      "outputs": []
    },
    {
      "cell_type": "code",
      "source": [
        "for column in numeric_cols:\n",
        "    df = df.withColumn(column,f.col(column).cast(IntegerType()))\n"
      ],
      "metadata": {
        "id": "n7Swo2-QLoPY"
      },
      "execution_count": null,
      "outputs": []
    },
    {
      "cell_type": "markdown",
      "source": [
        "### Checking the schema after converting the numerical columns into IntegerType"
      ],
      "metadata": {
        "id": "c7d4e_JHwmh3"
      }
    },
    {
      "cell_type": "code",
      "source": [
        "df.printSchema()"
      ],
      "metadata": {
        "colab": {
          "base_uri": "https://localhost:8080/"
        },
        "id": "aUoxHnQ9MLgQ",
        "outputId": "98071544-e5f6-43db-abdf-3b162a0cb377"
      },
      "execution_count": null,
      "outputs": [
        {
          "output_type": "stream",
          "name": "stdout",
          "text": [
            "root\n",
            " |-- Channel: string (nullable = true)\n",
            " |-- Region: string (nullable = true)\n",
            " |-- Fresh: integer (nullable = true)\n",
            " |-- Milk: integer (nullable = true)\n",
            " |-- Grocery: integer (nullable = true)\n",
            " |-- Frozen: integer (nullable = true)\n",
            " |-- Detergents_Paper: integer (nullable = true)\n",
            " |-- Delicatessen: integer (nullable = true)\n",
            "\n"
          ]
        }
      ]
    },
    {
      "cell_type": "markdown",
      "source": [
        "### Creating a variable to store all the numerical columns into a list"
      ],
      "metadata": {
        "id": "SfF1zXNxww4F"
      }
    },
    {
      "cell_type": "code",
      "source": [
        "numeric_columns = [column[0] for column in df.dtypes if column[1]=='int']\n",
        "numeric_columns"
      ],
      "metadata": {
        "colab": {
          "base_uri": "https://localhost:8080/"
        },
        "id": "ZhtiTxFiz0uG",
        "outputId": "68c7119f-8132-4888-b87a-86f696253d65"
      },
      "execution_count": null,
      "outputs": [
        {
          "output_type": "execute_result",
          "data": {
            "text/plain": [
              "['Fresh', 'Milk', 'Grocery', 'Frozen', 'Detergents_Paper', 'Delicatessen']"
            ]
          },
          "metadata": {},
          "execution_count": 17
        }
      ]
    },
    {
      "cell_type": "markdown",
      "source": [
        "### Creating a customized function \n",
        "\n",
        "1. "
      ],
      "metadata": {
        "id": "uC1kV86Qw52q"
      }
    },
    {
      "cell_type": "code",
      "source": [
        "def find_outliers(df):\n",
        "\n",
        "    # Identifying the numerical columns in a spark dataframe\n",
        "    numeric_columns = [column[0] for column in df.dtypes if column[1]=='int']\n",
        "\n",
        "    # Using the `for` loop to create new columns by identifying the outliers for each feature\n",
        "    for column in numeric_cols:\n",
        "\n",
        "        less_Q1 = 'less_Q1_{}'.format(column)\n",
        "        more_Q3 = 'more_Q3_{}'.format(column)\n",
        "        Q1 = 'Q1_{}'.format(column)\n",
        "        Q3 = 'Q3_{}'.format(column)\n",
        "\n",
        "        # Q1 : First Quartile ., Q3 : Third Quartile\n",
        "        Q1 = df.approxQuantile(column,[0.25],relativeError=0)\n",
        "        Q3 = df.approxQuantile(column,[0.75],relativeError=0)\n",
        "        \n",
        "        # IQR : Inter Quantile Range\n",
        "        # We need to define the index [0], as Q1 & Q3 are a set of lists., to perform a mathematical operation\n",
        "        # Q1 & Q3 are defined seperately so as to have a clear indication on First Quantile & 3rd Quantile\n",
        "        IQR = Q3[0] - Q1[0]\n",
        "        \n",
        "        #selecting the data, with -1.5*IQR to + 1.5*IQR., where param = 1.5 default value\n",
        "        less_Q1 =  Q1[0] - 1.5*IQR\n",
        "        more_Q3 =  Q3[0] + 1.5*IQR\n",
        "        \n",
        "        isOutlierCol = 'is_outlier_{}'.format(column)\n",
        "        \n",
        "        df = df.withColumn(isOutlierCol,f.when((df[column] > more_Q3) | (df[column] < less_Q1), 1).otherwise(0))\n",
        "    \n",
        "\n",
        "    # Selecting the specific columns which we have added above, to check if there are any outliers\n",
        "    selected_columns = [column for column in df.columns if column.startswith(\"is_outlier\")]\n",
        "\n",
        "    # Adding all the outlier columns into a new colum \"total_outliers\", to see the total number of outliers\n",
        "    df = df.withColumn('total_outliers',sum(df[column] for column in selected_columns))\n",
        "\n",
        "    # Dropping the extra columns created above, just to create nice dataframe., without extra columns\n",
        "    df = df.drop(*[column for column in df.columns if column.startswith(\"is_outlier\")])\n",
        "\n",
        "    return df\n",
        "    "
      ],
      "metadata": {
        "id": "WUKvzV_mMQeO"
      },
      "execution_count": null,
      "outputs": []
    },
    {
      "cell_type": "markdown",
      "source": [
        "### Using the customized Outlier function and applying it to a spark dataframe"
      ],
      "metadata": {
        "id": "fkZpcH4Nxqbz"
      }
    },
    {
      "cell_type": "code",
      "source": [
        "new_df = find_outliers(df)\n",
        "new_df.show()\n",
        "\n"
      ],
      "metadata": {
        "id": "8_BhmWK32lNg",
        "colab": {
          "base_uri": "https://localhost:8080/"
        },
        "outputId": "5e061aa3-90aa-4493-bbd1-022ab5b18f6d"
      },
      "execution_count": null,
      "outputs": [
        {
          "output_type": "stream",
          "name": "stdout",
          "text": [
            "+-------+------+-----+-----+-------+------+----------------+------------+--------------+\n",
            "|Channel|Region|Fresh| Milk|Grocery|Frozen|Detergents_Paper|Delicatessen|total_outliers|\n",
            "+-------+------+-----+-----+-------+------+----------------+------------+--------------+\n",
            "|      2|     3|12669| 9656|   7561|   214|            2674|        1338|             0|\n",
            "|      2|     3| 7057| 9810|   9568|  1762|            3293|        1776|             0|\n",
            "|      2|     3| 6353| 8808|   7684|  2405|            3516|        7844|             1|\n",
            "|      1|     3|13265| 1196|   4221|  6404|             507|        1788|             0|\n",
            "|      2|     3|22615| 5410|   7198|  3915|            1777|        5185|             1|\n",
            "|      2|     3| 9413| 8259|   5126|   666|            1795|        1451|             0|\n",
            "|      2|     3|12126| 3199|   6975|   480|            3140|         545|             0|\n",
            "|      2|     3| 7579| 4956|   9426|  1669|            3321|        2566|             0|\n",
            "|      1|     3| 5963| 3648|   6192|   425|            1716|         750|             0|\n",
            "|      2|     3| 6006|11093|  18881|  1159|            7425|        2098|             0|\n",
            "|      2|     3| 3366| 5403|  12974|  4400|            5977|        1744|             0|\n",
            "|      2|     3|13146| 1124|   4523|  1420|             549|         497|             0|\n",
            "|      2|     3|31714|12319|  11757|   287|            3881|        2931|             0|\n",
            "|      2|     3|21217| 6208|  14982|  3095|            6707|         602|             0|\n",
            "|      2|     3|24653| 9465|  12091|   294|            5058|        2168|             0|\n",
            "|      1|     3|10253| 1114|   3821|   397|             964|         412|             0|\n",
            "|      2|     3| 1020| 8816|  12121|   134|            4508|        1080|             0|\n",
            "|      1|     3| 5876| 6157|   2933|   839|             370|        4478|             1|\n",
            "|      2|     3|18601| 6327|  10099|  2205|            2767|        3181|             0|\n",
            "|      1|     3| 7780| 2495|   9464|   669|            2518|         501|             0|\n",
            "+-------+------+-----+-----+-------+------+----------------+------------+--------------+\n",
            "only showing top 20 rows\n",
            "\n"
          ]
        }
      ]
    },
    {
      "cell_type": "markdown",
      "source": [
        "### Fitering the above dataframe, to select only those records where the outlier count is < = 1"
      ],
      "metadata": {
        "id": "6BM3CfYrxzTE"
      }
    },
    {
      "cell_type": "code",
      "source": [
        "new_df_with_no_outliers = new_df.filter(new_df['total_Outliers']<=1)\n",
        "new_df_with_no_outliers = new_df_with_no_outliers.select(*df.columns)\n",
        "\n",
        "new_df_with_no_outliers.show()"
      ],
      "metadata": {
        "colab": {
          "base_uri": "https://localhost:8080/"
        },
        "id": "dw35IIRdOyWM",
        "outputId": "03499a3b-9a0c-41cc-b62e-586315971592"
      },
      "execution_count": null,
      "outputs": [
        {
          "output_type": "stream",
          "name": "stdout",
          "text": [
            "+-------+------+-----+-----+-------+------+----------------+------------+\n",
            "|Channel|Region|Fresh| Milk|Grocery|Frozen|Detergents_Paper|Delicatessen|\n",
            "+-------+------+-----+-----+-------+------+----------------+------------+\n",
            "|      2|     3|12669| 9656|   7561|   214|            2674|        1338|\n",
            "|      2|     3| 7057| 9810|   9568|  1762|            3293|        1776|\n",
            "|      2|     3| 6353| 8808|   7684|  2405|            3516|        7844|\n",
            "|      1|     3|13265| 1196|   4221|  6404|             507|        1788|\n",
            "|      2|     3|22615| 5410|   7198|  3915|            1777|        5185|\n",
            "|      2|     3| 9413| 8259|   5126|   666|            1795|        1451|\n",
            "|      2|     3|12126| 3199|   6975|   480|            3140|         545|\n",
            "|      2|     3| 7579| 4956|   9426|  1669|            3321|        2566|\n",
            "|      1|     3| 5963| 3648|   6192|   425|            1716|         750|\n",
            "|      2|     3| 6006|11093|  18881|  1159|            7425|        2098|\n",
            "|      2|     3| 3366| 5403|  12974|  4400|            5977|        1744|\n",
            "|      2|     3|13146| 1124|   4523|  1420|             549|         497|\n",
            "|      2|     3|31714|12319|  11757|   287|            3881|        2931|\n",
            "|      2|     3|21217| 6208|  14982|  3095|            6707|         602|\n",
            "|      2|     3|24653| 9465|  12091|   294|            5058|        2168|\n",
            "|      1|     3|10253| 1114|   3821|   397|             964|         412|\n",
            "|      2|     3| 1020| 8816|  12121|   134|            4508|        1080|\n",
            "|      1|     3| 5876| 6157|   2933|   839|             370|        4478|\n",
            "|      2|     3|18601| 6327|  10099|  2205|            2767|        3181|\n",
            "|      1|     3| 7780| 2495|   9464|   669|            2518|         501|\n",
            "+-------+------+-----+-----+-------+------+----------------+------------+\n",
            "only showing top 20 rows\n",
            "\n"
          ]
        }
      ]
    },
    {
      "cell_type": "markdown",
      "source": [
        "### The count of the dataframe, after removing the outliers"
      ],
      "metadata": {
        "id": "tJMxBlgfyE4-"
      }
    },
    {
      "cell_type": "code",
      "source": [
        "new_df_with_no_outliers.count()"
      ],
      "metadata": {
        "colab": {
          "base_uri": "https://localhost:8080/"
        },
        "id": "0m58T8wBPEIh",
        "outputId": "b5ca19c9-16d0-4349-bd18-898b99ee4804"
      },
      "execution_count": null,
      "outputs": [
        {
          "output_type": "execute_result",
          "data": {
            "text/plain": [
              "399"
            ]
          },
          "metadata": {},
          "execution_count": 21
        }
      ]
    },
    {
      "cell_type": "markdown",
      "source": [
        "### The dataset, which contains 2 or more outliers in each record"
      ],
      "metadata": {
        "id": "PjrU6Q0my1_e"
      }
    },
    {
      "cell_type": "code",
      "source": [
        "data_with_outliers = new_df.filter(new_df['total_Outliers']>=2)\n",
        "data_with_outliers.show()"
      ],
      "metadata": {
        "id": "jz_pxmMVPhea",
        "colab": {
          "base_uri": "https://localhost:8080/"
        },
        "outputId": "675ca18f-ab90-454a-a5cf-6e732134a84d"
      },
      "execution_count": null,
      "outputs": [
        {
          "output_type": "stream",
          "name": "stdout",
          "text": [
            "+-------+------+-----+-----+-------+------+----------------+------------+--------------+\n",
            "|Channel|Region|Fresh| Milk|Grocery|Frozen|Detergents_Paper|Delicatessen|total_outliers|\n",
            "+-------+------+-----+-----+-------+------+----------------+------------+--------------+\n",
            "|      1|     3|31276| 1917|   4469|  9408|            2381|        4334|             2|\n",
            "|      2|     3|26373|36423|  22019|  5154|            4337|       16523|             2|\n",
            "|      2|     3| 4113|20484|  25957|  1158|            8604|        5206|             3|\n",
            "|      1|     3|56159|  555|    902| 10002|             212|        2916|             2|\n",
            "|      1|     3|24025| 4332|   4757|  9510|            1145|        5864|             2|\n",
            "|      2|     3|  630|11095|  23998|   787|            9529|          72|             2|\n",
            "|      2|     3| 5181|22044|  21531|  1740|            7353|        4985|             2|\n",
            "|      2|     3|44466|54259|  55571|  7782|           24171|        6465|             6|\n",
            "|      2|     3| 4967|21412|  28921|  1798|           13583|        1163|             3|\n",
            "|      2|     3| 4098|29892|  26866|  2616|           17740|        1340|             3|\n",
            "|      2|     3|35942|38369|  59598|  3254|           26701|        2017|             3|\n",
            "|      2|     3|   85|20959|  45828|    36|           24231|        1423|             3|\n",
            "|      2|     3|12205|12697|  28540|   869|           12034|        1009|             2|\n",
            "|      2|     3|16117|46197|  92780|  1026|           40827|        2944|             3|\n",
            "|      2|     3|22925|73498|  32114|   987|           20070|         903|             3|\n",
            "|      1|     3|43265| 5025|   8117|  6312|            1579|       14351|             2|\n",
            "|      2|     3| 9198|27472|  32034|  3232|           18906|        5130|             4|\n",
            "|      1|     3|56082| 3504|   8906| 18028|            1480|        2498|             2|\n",
            "|      2|     3| 1406|16729|  28986|   673|             836|           3|             2|\n",
            "|      1|     3|76237| 3473|   7102| 16538|             778|         918|             2|\n",
            "+-------+------+-----+-----+-------+------+----------------+------------+--------------+\n",
            "only showing top 20 rows\n",
            "\n"
          ]
        }
      ]
    },
    {
      "cell_type": "code",
      "source": [
        "# Selecting the numerical columns from the original dataframe and converting into pandas\n",
        "\n",
        "numeric_columns"
      ],
      "metadata": {
        "colab": {
          "base_uri": "https://localhost:8080/"
        },
        "id": "bKGJjhd_Vzr4",
        "outputId": "5468dfc1-912b-4850-9ed0-2590dd6633df"
      },
      "execution_count": null,
      "outputs": [
        {
          "output_type": "execute_result",
          "data": {
            "text/plain": [
              "['Fresh', 'Milk', 'Grocery', 'Frozen', 'Detergents_Paper', 'Delicatessen']"
            ]
          },
          "metadata": {},
          "execution_count": 23
        }
      ]
    },
    {
      "cell_type": "markdown",
      "source": [
        "### Converting a spark dataframe into pandas dataframe, which enables us to plot the graphs using seaborn and matplotlib"
      ],
      "metadata": {
        "id": "xq32OZrEzAoR"
      }
    },
    {
      "cell_type": "code",
      "source": [
        "original_numerical_df = df.select(*numeric_columns).toPandas()\n",
        "\n",
        "original_numerical_df.head(10)"
      ],
      "metadata": {
        "colab": {
          "base_uri": "https://localhost:8080/",
          "height": 305
        },
        "id": "NkOJ4ZdbWLrY",
        "outputId": "3092fd8f-181e-43de-fe3b-9e5573639610"
      },
      "execution_count": null,
      "outputs": [
        {
          "output_type": "execute_result",
          "data": {
            "application/vnd.google.colaboratory.module+javascript": "\n      import \"https://ssl.gstatic.com/colaboratory/data_table/a6224c040fa35dcf/data_table.js\";\n\n      window.createDataTable({\n        data: [[{\n            'v': 0,\n            'f': \"0\",\n        },\n{\n            'v': 12669,\n            'f': \"12669\",\n        },\n{\n            'v': 9656,\n            'f': \"9656\",\n        },\n{\n            'v': 7561,\n            'f': \"7561\",\n        },\n{\n            'v': 214,\n            'f': \"214\",\n        },\n{\n            'v': 2674,\n            'f': \"2674\",\n        },\n{\n            'v': 1338,\n            'f': \"1338\",\n        }],\n [{\n            'v': 1,\n            'f': \"1\",\n        },\n{\n            'v': 7057,\n            'f': \"7057\",\n        },\n{\n            'v': 9810,\n            'f': \"9810\",\n        },\n{\n            'v': 9568,\n            'f': \"9568\",\n        },\n{\n            'v': 1762,\n            'f': \"1762\",\n        },\n{\n            'v': 3293,\n            'f': \"3293\",\n        },\n{\n            'v': 1776,\n            'f': \"1776\",\n        }],\n [{\n            'v': 2,\n            'f': \"2\",\n        },\n{\n            'v': 6353,\n            'f': \"6353\",\n        },\n{\n            'v': 8808,\n            'f': \"8808\",\n        },\n{\n            'v': 7684,\n            'f': \"7684\",\n        },\n{\n            'v': 2405,\n            'f': \"2405\",\n        },\n{\n            'v': 3516,\n            'f': \"3516\",\n        },\n{\n            'v': 7844,\n            'f': \"7844\",\n        }],\n [{\n            'v': 3,\n            'f': \"3\",\n        },\n{\n            'v': 13265,\n            'f': \"13265\",\n        },\n{\n            'v': 1196,\n            'f': \"1196\",\n        },\n{\n            'v': 4221,\n            'f': \"4221\",\n        },\n{\n            'v': 6404,\n            'f': \"6404\",\n        },\n{\n            'v': 507,\n            'f': \"507\",\n        },\n{\n            'v': 1788,\n            'f': \"1788\",\n        }],\n [{\n            'v': 4,\n            'f': \"4\",\n        },\n{\n            'v': 22615,\n            'f': \"22615\",\n        },\n{\n            'v': 5410,\n            'f': \"5410\",\n        },\n{\n            'v': 7198,\n            'f': \"7198\",\n        },\n{\n            'v': 3915,\n            'f': \"3915\",\n        },\n{\n            'v': 1777,\n            'f': \"1777\",\n        },\n{\n            'v': 5185,\n            'f': \"5185\",\n        }],\n [{\n            'v': 5,\n            'f': \"5\",\n        },\n{\n            'v': 9413,\n            'f': \"9413\",\n        },\n{\n            'v': 8259,\n            'f': \"8259\",\n        },\n{\n            'v': 5126,\n            'f': \"5126\",\n        },\n{\n            'v': 666,\n            'f': \"666\",\n        },\n{\n            'v': 1795,\n            'f': \"1795\",\n        },\n{\n            'v': 1451,\n            'f': \"1451\",\n        }],\n [{\n            'v': 6,\n            'f': \"6\",\n        },\n{\n            'v': 12126,\n            'f': \"12126\",\n        },\n{\n            'v': 3199,\n            'f': \"3199\",\n        },\n{\n            'v': 6975,\n            'f': \"6975\",\n        },\n{\n            'v': 480,\n            'f': \"480\",\n        },\n{\n            'v': 3140,\n            'f': \"3140\",\n        },\n{\n            'v': 545,\n            'f': \"545\",\n        }],\n [{\n            'v': 7,\n            'f': \"7\",\n        },\n{\n            'v': 7579,\n            'f': \"7579\",\n        },\n{\n            'v': 4956,\n            'f': \"4956\",\n        },\n{\n            'v': 9426,\n            'f': \"9426\",\n        },\n{\n            'v': 1669,\n            'f': \"1669\",\n        },\n{\n            'v': 3321,\n            'f': \"3321\",\n        },\n{\n            'v': 2566,\n            'f': \"2566\",\n        }],\n [{\n            'v': 8,\n            'f': \"8\",\n        },\n{\n            'v': 5963,\n            'f': \"5963\",\n        },\n{\n            'v': 3648,\n            'f': \"3648\",\n        },\n{\n            'v': 6192,\n            'f': \"6192\",\n        },\n{\n            'v': 425,\n            'f': \"425\",\n        },\n{\n            'v': 1716,\n            'f': \"1716\",\n        },\n{\n            'v': 750,\n            'f': \"750\",\n        }],\n [{\n            'v': 9,\n            'f': \"9\",\n        },\n{\n            'v': 6006,\n            'f': \"6006\",\n        },\n{\n            'v': 11093,\n            'f': \"11093\",\n        },\n{\n            'v': 18881,\n            'f': \"18881\",\n        },\n{\n            'v': 1159,\n            'f': \"1159\",\n        },\n{\n            'v': 7425,\n            'f': \"7425\",\n        },\n{\n            'v': 2098,\n            'f': \"2098\",\n        }]],\n        columns: [[\"number\", \"index\"], [\"number\", \"Fresh\"], [\"number\", \"Milk\"], [\"number\", \"Grocery\"], [\"number\", \"Frozen\"], [\"number\", \"Detergents_Paper\"], [\"number\", \"Delicatessen\"]],\n        columnOptions: [{\"width\": \"1px\", \"className\": \"index_column\"}],\n        rowsPerPage: 25,\n        helpUrl: \"https://colab.research.google.com/notebooks/data_table.ipynb\",\n        suppressOutputScrolling: true,\n        minimumWidth: undefined,\n      });\n    ",
            "text/html": [
              "\n",
              "  <div id=\"df-f67f4243-9cd8-47b2-8bb2-a6eaac71164e\">\n",
              "    <div class=\"colab-df-container\">\n",
              "      <div>\n",
              "<style scoped>\n",
              "    .dataframe tbody tr th:only-of-type {\n",
              "        vertical-align: middle;\n",
              "    }\n",
              "\n",
              "    .dataframe tbody tr th {\n",
              "        vertical-align: top;\n",
              "    }\n",
              "\n",
              "    .dataframe thead th {\n",
              "        text-align: right;\n",
              "    }\n",
              "</style>\n",
              "<table border=\"1\" class=\"dataframe\">\n",
              "  <thead>\n",
              "    <tr style=\"text-align: right;\">\n",
              "      <th></th>\n",
              "      <th>Fresh</th>\n",
              "      <th>Milk</th>\n",
              "      <th>Grocery</th>\n",
              "      <th>Frozen</th>\n",
              "      <th>Detergents_Paper</th>\n",
              "      <th>Delicatessen</th>\n",
              "    </tr>\n",
              "  </thead>\n",
              "  <tbody>\n",
              "    <tr>\n",
              "      <th>0</th>\n",
              "      <td>12669</td>\n",
              "      <td>9656</td>\n",
              "      <td>7561</td>\n",
              "      <td>214</td>\n",
              "      <td>2674</td>\n",
              "      <td>1338</td>\n",
              "    </tr>\n",
              "    <tr>\n",
              "      <th>1</th>\n",
              "      <td>7057</td>\n",
              "      <td>9810</td>\n",
              "      <td>9568</td>\n",
              "      <td>1762</td>\n",
              "      <td>3293</td>\n",
              "      <td>1776</td>\n",
              "    </tr>\n",
              "    <tr>\n",
              "      <th>2</th>\n",
              "      <td>6353</td>\n",
              "      <td>8808</td>\n",
              "      <td>7684</td>\n",
              "      <td>2405</td>\n",
              "      <td>3516</td>\n",
              "      <td>7844</td>\n",
              "    </tr>\n",
              "    <tr>\n",
              "      <th>3</th>\n",
              "      <td>13265</td>\n",
              "      <td>1196</td>\n",
              "      <td>4221</td>\n",
              "      <td>6404</td>\n",
              "      <td>507</td>\n",
              "      <td>1788</td>\n",
              "    </tr>\n",
              "    <tr>\n",
              "      <th>4</th>\n",
              "      <td>22615</td>\n",
              "      <td>5410</td>\n",
              "      <td>7198</td>\n",
              "      <td>3915</td>\n",
              "      <td>1777</td>\n",
              "      <td>5185</td>\n",
              "    </tr>\n",
              "    <tr>\n",
              "      <th>5</th>\n",
              "      <td>9413</td>\n",
              "      <td>8259</td>\n",
              "      <td>5126</td>\n",
              "      <td>666</td>\n",
              "      <td>1795</td>\n",
              "      <td>1451</td>\n",
              "    </tr>\n",
              "    <tr>\n",
              "      <th>6</th>\n",
              "      <td>12126</td>\n",
              "      <td>3199</td>\n",
              "      <td>6975</td>\n",
              "      <td>480</td>\n",
              "      <td>3140</td>\n",
              "      <td>545</td>\n",
              "    </tr>\n",
              "    <tr>\n",
              "      <th>7</th>\n",
              "      <td>7579</td>\n",
              "      <td>4956</td>\n",
              "      <td>9426</td>\n",
              "      <td>1669</td>\n",
              "      <td>3321</td>\n",
              "      <td>2566</td>\n",
              "    </tr>\n",
              "    <tr>\n",
              "      <th>8</th>\n",
              "      <td>5963</td>\n",
              "      <td>3648</td>\n",
              "      <td>6192</td>\n",
              "      <td>425</td>\n",
              "      <td>1716</td>\n",
              "      <td>750</td>\n",
              "    </tr>\n",
              "    <tr>\n",
              "      <th>9</th>\n",
              "      <td>6006</td>\n",
              "      <td>11093</td>\n",
              "      <td>18881</td>\n",
              "      <td>1159</td>\n",
              "      <td>7425</td>\n",
              "      <td>2098</td>\n",
              "    </tr>\n",
              "  </tbody>\n",
              "</table>\n",
              "</div>\n",
              "      <button class=\"colab-df-convert\" onclick=\"convertToInteractive('df-f67f4243-9cd8-47b2-8bb2-a6eaac71164e')\"\n",
              "              title=\"Convert this dataframe to an interactive table.\"\n",
              "              style=\"display:none;\">\n",
              "        \n",
              "  <svg xmlns=\"http://www.w3.org/2000/svg\" height=\"24px\"viewBox=\"0 0 24 24\"\n",
              "       width=\"24px\">\n",
              "    <path d=\"M0 0h24v24H0V0z\" fill=\"none\"/>\n",
              "    <path d=\"M18.56 5.44l.94 2.06.94-2.06 2.06-.94-2.06-.94-.94-2.06-.94 2.06-2.06.94zm-11 1L8.5 8.5l.94-2.06 2.06-.94-2.06-.94L8.5 2.5l-.94 2.06-2.06.94zm10 10l.94 2.06.94-2.06 2.06-.94-2.06-.94-.94-2.06-.94 2.06-2.06.94z\"/><path d=\"M17.41 7.96l-1.37-1.37c-.4-.4-.92-.59-1.43-.59-.52 0-1.04.2-1.43.59L10.3 9.45l-7.72 7.72c-.78.78-.78 2.05 0 2.83L4 21.41c.39.39.9.59 1.41.59.51 0 1.02-.2 1.41-.59l7.78-7.78 2.81-2.81c.8-.78.8-2.07 0-2.86zM5.41 20L4 18.59l7.72-7.72 1.47 1.35L5.41 20z\"/>\n",
              "  </svg>\n",
              "      </button>\n",
              "      \n",
              "  <style>\n",
              "    .colab-df-container {\n",
              "      display:flex;\n",
              "      flex-wrap:wrap;\n",
              "      gap: 12px;\n",
              "    }\n",
              "\n",
              "    .colab-df-convert {\n",
              "      background-color: #E8F0FE;\n",
              "      border: none;\n",
              "      border-radius: 50%;\n",
              "      cursor: pointer;\n",
              "      display: none;\n",
              "      fill: #1967D2;\n",
              "      height: 32px;\n",
              "      padding: 0 0 0 0;\n",
              "      width: 32px;\n",
              "    }\n",
              "\n",
              "    .colab-df-convert:hover {\n",
              "      background-color: #E2EBFA;\n",
              "      box-shadow: 0px 1px 2px rgba(60, 64, 67, 0.3), 0px 1px 3px 1px rgba(60, 64, 67, 0.15);\n",
              "      fill: #174EA6;\n",
              "    }\n",
              "\n",
              "    [theme=dark] .colab-df-convert {\n",
              "      background-color: #3B4455;\n",
              "      fill: #D2E3FC;\n",
              "    }\n",
              "\n",
              "    [theme=dark] .colab-df-convert:hover {\n",
              "      background-color: #434B5C;\n",
              "      box-shadow: 0px 1px 3px 1px rgba(0, 0, 0, 0.15);\n",
              "      filter: drop-shadow(0px 1px 2px rgba(0, 0, 0, 0.3));\n",
              "      fill: #FFFFFF;\n",
              "    }\n",
              "  </style>\n",
              "\n",
              "      <script>\n",
              "        const buttonEl =\n",
              "          document.querySelector('#df-f67f4243-9cd8-47b2-8bb2-a6eaac71164e button.colab-df-convert');\n",
              "        buttonEl.style.display =\n",
              "          google.colab.kernel.accessAllowed ? 'block' : 'none';\n",
              "\n",
              "        async function convertToInteractive(key) {\n",
              "          const element = document.querySelector('#df-f67f4243-9cd8-47b2-8bb2-a6eaac71164e');\n",
              "          const dataTable =\n",
              "            await google.colab.kernel.invokeFunction('convertToInteractive',\n",
              "                                                     [key], {});\n",
              "          if (!dataTable) return;\n",
              "\n",
              "          const docLinkHtml = 'Like what you see? Visit the ' +\n",
              "            '<a target=\"_blank\" href=https://colab.research.google.com/notebooks/data_table.ipynb>data table notebook</a>'\n",
              "            + ' to learn more about interactive tables.';\n",
              "          element.innerHTML = '';\n",
              "          dataTable['output_type'] = 'display_data';\n",
              "          await google.colab.output.renderOutput(dataTable, element);\n",
              "          const docLink = document.createElement('div');\n",
              "          docLink.innerHTML = docLinkHtml;\n",
              "          element.appendChild(docLink);\n",
              "        }\n",
              "      </script>\n",
              "    </div>\n",
              "  </div>\n",
              "  "
            ],
            "text/plain": [
              "   Fresh   Milk  Grocery  Frozen  Detergents_Paper  Delicatessen\n",
              "0  12669   9656     7561     214              2674          1338\n",
              "1   7057   9810     9568    1762              3293          1776\n",
              "2   6353   8808     7684    2405              3516          7844\n",
              "3  13265   1196     4221    6404               507          1788\n",
              "4  22615   5410     7198    3915              1777          5185\n",
              "5   9413   8259     5126     666              1795          1451\n",
              "6  12126   3199     6975     480              3140           545\n",
              "7   7579   4956     9426    1669              3321          2566\n",
              "8   5963   3648     6192     425              1716           750\n",
              "9   6006  11093    18881    1159              7425          2098"
            ]
          },
          "metadata": {},
          "execution_count": 24
        }
      ]
    },
    {
      "cell_type": "code",
      "source": [
        "# Plotting the box for the dataset after removing the outliers\n",
        "\n",
        "dataset_after_removing_outliers = new_df_with_no_outliers.toPandas()\n",
        "dataset_after_removing_outliers.head(10)"
      ],
      "metadata": {
        "colab": {
          "base_uri": "https://localhost:8080/",
          "height": 305
        },
        "id": "sc74o3q4W33-",
        "outputId": "97712a25-ffc0-4797-9a16-952c49955d15"
      },
      "execution_count": null,
      "outputs": [
        {
          "output_type": "execute_result",
          "data": {
            "application/vnd.google.colaboratory.module+javascript": "\n      import \"https://ssl.gstatic.com/colaboratory/data_table/a6224c040fa35dcf/data_table.js\";\n\n      window.createDataTable({\n        data: [[{\n            'v': 0,\n            'f': \"0\",\n        },\n\"2\",\n\"3\",\n{\n            'v': 12669,\n            'f': \"12669\",\n        },\n{\n            'v': 9656,\n            'f': \"9656\",\n        },\n{\n            'v': 7561,\n            'f': \"7561\",\n        },\n{\n            'v': 214,\n            'f': \"214\",\n        },\n{\n            'v': 2674,\n            'f': \"2674\",\n        },\n{\n            'v': 1338,\n            'f': \"1338\",\n        }],\n [{\n            'v': 1,\n            'f': \"1\",\n        },\n\"2\",\n\"3\",\n{\n            'v': 7057,\n            'f': \"7057\",\n        },\n{\n            'v': 9810,\n            'f': \"9810\",\n        },\n{\n            'v': 9568,\n            'f': \"9568\",\n        },\n{\n            'v': 1762,\n            'f': \"1762\",\n        },\n{\n            'v': 3293,\n            'f': \"3293\",\n        },\n{\n            'v': 1776,\n            'f': \"1776\",\n        }],\n [{\n            'v': 2,\n            'f': \"2\",\n        },\n\"2\",\n\"3\",\n{\n            'v': 6353,\n            'f': \"6353\",\n        },\n{\n            'v': 8808,\n            'f': \"8808\",\n        },\n{\n            'v': 7684,\n            'f': \"7684\",\n        },\n{\n            'v': 2405,\n            'f': \"2405\",\n        },\n{\n            'v': 3516,\n            'f': \"3516\",\n        },\n{\n            'v': 7844,\n            'f': \"7844\",\n        }],\n [{\n            'v': 3,\n            'f': \"3\",\n        },\n\"1\",\n\"3\",\n{\n            'v': 13265,\n            'f': \"13265\",\n        },\n{\n            'v': 1196,\n            'f': \"1196\",\n        },\n{\n            'v': 4221,\n            'f': \"4221\",\n        },\n{\n            'v': 6404,\n            'f': \"6404\",\n        },\n{\n            'v': 507,\n            'f': \"507\",\n        },\n{\n            'v': 1788,\n            'f': \"1788\",\n        }],\n [{\n            'v': 4,\n            'f': \"4\",\n        },\n\"2\",\n\"3\",\n{\n            'v': 22615,\n            'f': \"22615\",\n        },\n{\n            'v': 5410,\n            'f': \"5410\",\n        },\n{\n            'v': 7198,\n            'f': \"7198\",\n        },\n{\n            'v': 3915,\n            'f': \"3915\",\n        },\n{\n            'v': 1777,\n            'f': \"1777\",\n        },\n{\n            'v': 5185,\n            'f': \"5185\",\n        }],\n [{\n            'v': 5,\n            'f': \"5\",\n        },\n\"2\",\n\"3\",\n{\n            'v': 9413,\n            'f': \"9413\",\n        },\n{\n            'v': 8259,\n            'f': \"8259\",\n        },\n{\n            'v': 5126,\n            'f': \"5126\",\n        },\n{\n            'v': 666,\n            'f': \"666\",\n        },\n{\n            'v': 1795,\n            'f': \"1795\",\n        },\n{\n            'v': 1451,\n            'f': \"1451\",\n        }],\n [{\n            'v': 6,\n            'f': \"6\",\n        },\n\"2\",\n\"3\",\n{\n            'v': 12126,\n            'f': \"12126\",\n        },\n{\n            'v': 3199,\n            'f': \"3199\",\n        },\n{\n            'v': 6975,\n            'f': \"6975\",\n        },\n{\n            'v': 480,\n            'f': \"480\",\n        },\n{\n            'v': 3140,\n            'f': \"3140\",\n        },\n{\n            'v': 545,\n            'f': \"545\",\n        }],\n [{\n            'v': 7,\n            'f': \"7\",\n        },\n\"2\",\n\"3\",\n{\n            'v': 7579,\n            'f': \"7579\",\n        },\n{\n            'v': 4956,\n            'f': \"4956\",\n        },\n{\n            'v': 9426,\n            'f': \"9426\",\n        },\n{\n            'v': 1669,\n            'f': \"1669\",\n        },\n{\n            'v': 3321,\n            'f': \"3321\",\n        },\n{\n            'v': 2566,\n            'f': \"2566\",\n        }],\n [{\n            'v': 8,\n            'f': \"8\",\n        },\n\"1\",\n\"3\",\n{\n            'v': 5963,\n            'f': \"5963\",\n        },\n{\n            'v': 3648,\n            'f': \"3648\",\n        },\n{\n            'v': 6192,\n            'f': \"6192\",\n        },\n{\n            'v': 425,\n            'f': \"425\",\n        },\n{\n            'v': 1716,\n            'f': \"1716\",\n        },\n{\n            'v': 750,\n            'f': \"750\",\n        }],\n [{\n            'v': 9,\n            'f': \"9\",\n        },\n\"2\",\n\"3\",\n{\n            'v': 6006,\n            'f': \"6006\",\n        },\n{\n            'v': 11093,\n            'f': \"11093\",\n        },\n{\n            'v': 18881,\n            'f': \"18881\",\n        },\n{\n            'v': 1159,\n            'f': \"1159\",\n        },\n{\n            'v': 7425,\n            'f': \"7425\",\n        },\n{\n            'v': 2098,\n            'f': \"2098\",\n        }]],\n        columns: [[\"number\", \"index\"], [\"string\", \"Channel\"], [\"string\", \"Region\"], [\"number\", \"Fresh\"], [\"number\", \"Milk\"], [\"number\", \"Grocery\"], [\"number\", \"Frozen\"], [\"number\", \"Detergents_Paper\"], [\"number\", \"Delicatessen\"]],\n        columnOptions: [{\"width\": \"1px\", \"className\": \"index_column\"}],\n        rowsPerPage: 25,\n        helpUrl: \"https://colab.research.google.com/notebooks/data_table.ipynb\",\n        suppressOutputScrolling: true,\n        minimumWidth: undefined,\n      });\n    ",
            "text/html": [
              "\n",
              "  <div id=\"df-f180ad5b-0f34-476d-a127-74fd7232a8f8\">\n",
              "    <div class=\"colab-df-container\">\n",
              "      <div>\n",
              "<style scoped>\n",
              "    .dataframe tbody tr th:only-of-type {\n",
              "        vertical-align: middle;\n",
              "    }\n",
              "\n",
              "    .dataframe tbody tr th {\n",
              "        vertical-align: top;\n",
              "    }\n",
              "\n",
              "    .dataframe thead th {\n",
              "        text-align: right;\n",
              "    }\n",
              "</style>\n",
              "<table border=\"1\" class=\"dataframe\">\n",
              "  <thead>\n",
              "    <tr style=\"text-align: right;\">\n",
              "      <th></th>\n",
              "      <th>Channel</th>\n",
              "      <th>Region</th>\n",
              "      <th>Fresh</th>\n",
              "      <th>Milk</th>\n",
              "      <th>Grocery</th>\n",
              "      <th>Frozen</th>\n",
              "      <th>Detergents_Paper</th>\n",
              "      <th>Delicatessen</th>\n",
              "    </tr>\n",
              "  </thead>\n",
              "  <tbody>\n",
              "    <tr>\n",
              "      <th>0</th>\n",
              "      <td>2</td>\n",
              "      <td>3</td>\n",
              "      <td>12669</td>\n",
              "      <td>9656</td>\n",
              "      <td>7561</td>\n",
              "      <td>214</td>\n",
              "      <td>2674</td>\n",
              "      <td>1338</td>\n",
              "    </tr>\n",
              "    <tr>\n",
              "      <th>1</th>\n",
              "      <td>2</td>\n",
              "      <td>3</td>\n",
              "      <td>7057</td>\n",
              "      <td>9810</td>\n",
              "      <td>9568</td>\n",
              "      <td>1762</td>\n",
              "      <td>3293</td>\n",
              "      <td>1776</td>\n",
              "    </tr>\n",
              "    <tr>\n",
              "      <th>2</th>\n",
              "      <td>2</td>\n",
              "      <td>3</td>\n",
              "      <td>6353</td>\n",
              "      <td>8808</td>\n",
              "      <td>7684</td>\n",
              "      <td>2405</td>\n",
              "      <td>3516</td>\n",
              "      <td>7844</td>\n",
              "    </tr>\n",
              "    <tr>\n",
              "      <th>3</th>\n",
              "      <td>1</td>\n",
              "      <td>3</td>\n",
              "      <td>13265</td>\n",
              "      <td>1196</td>\n",
              "      <td>4221</td>\n",
              "      <td>6404</td>\n",
              "      <td>507</td>\n",
              "      <td>1788</td>\n",
              "    </tr>\n",
              "    <tr>\n",
              "      <th>4</th>\n",
              "      <td>2</td>\n",
              "      <td>3</td>\n",
              "      <td>22615</td>\n",
              "      <td>5410</td>\n",
              "      <td>7198</td>\n",
              "      <td>3915</td>\n",
              "      <td>1777</td>\n",
              "      <td>5185</td>\n",
              "    </tr>\n",
              "    <tr>\n",
              "      <th>5</th>\n",
              "      <td>2</td>\n",
              "      <td>3</td>\n",
              "      <td>9413</td>\n",
              "      <td>8259</td>\n",
              "      <td>5126</td>\n",
              "      <td>666</td>\n",
              "      <td>1795</td>\n",
              "      <td>1451</td>\n",
              "    </tr>\n",
              "    <tr>\n",
              "      <th>6</th>\n",
              "      <td>2</td>\n",
              "      <td>3</td>\n",
              "      <td>12126</td>\n",
              "      <td>3199</td>\n",
              "      <td>6975</td>\n",
              "      <td>480</td>\n",
              "      <td>3140</td>\n",
              "      <td>545</td>\n",
              "    </tr>\n",
              "    <tr>\n",
              "      <th>7</th>\n",
              "      <td>2</td>\n",
              "      <td>3</td>\n",
              "      <td>7579</td>\n",
              "      <td>4956</td>\n",
              "      <td>9426</td>\n",
              "      <td>1669</td>\n",
              "      <td>3321</td>\n",
              "      <td>2566</td>\n",
              "    </tr>\n",
              "    <tr>\n",
              "      <th>8</th>\n",
              "      <td>1</td>\n",
              "      <td>3</td>\n",
              "      <td>5963</td>\n",
              "      <td>3648</td>\n",
              "      <td>6192</td>\n",
              "      <td>425</td>\n",
              "      <td>1716</td>\n",
              "      <td>750</td>\n",
              "    </tr>\n",
              "    <tr>\n",
              "      <th>9</th>\n",
              "      <td>2</td>\n",
              "      <td>3</td>\n",
              "      <td>6006</td>\n",
              "      <td>11093</td>\n",
              "      <td>18881</td>\n",
              "      <td>1159</td>\n",
              "      <td>7425</td>\n",
              "      <td>2098</td>\n",
              "    </tr>\n",
              "  </tbody>\n",
              "</table>\n",
              "</div>\n",
              "      <button class=\"colab-df-convert\" onclick=\"convertToInteractive('df-f180ad5b-0f34-476d-a127-74fd7232a8f8')\"\n",
              "              title=\"Convert this dataframe to an interactive table.\"\n",
              "              style=\"display:none;\">\n",
              "        \n",
              "  <svg xmlns=\"http://www.w3.org/2000/svg\" height=\"24px\"viewBox=\"0 0 24 24\"\n",
              "       width=\"24px\">\n",
              "    <path d=\"M0 0h24v24H0V0z\" fill=\"none\"/>\n",
              "    <path d=\"M18.56 5.44l.94 2.06.94-2.06 2.06-.94-2.06-.94-.94-2.06-.94 2.06-2.06.94zm-11 1L8.5 8.5l.94-2.06 2.06-.94-2.06-.94L8.5 2.5l-.94 2.06-2.06.94zm10 10l.94 2.06.94-2.06 2.06-.94-2.06-.94-.94-2.06-.94 2.06-2.06.94z\"/><path d=\"M17.41 7.96l-1.37-1.37c-.4-.4-.92-.59-1.43-.59-.52 0-1.04.2-1.43.59L10.3 9.45l-7.72 7.72c-.78.78-.78 2.05 0 2.83L4 21.41c.39.39.9.59 1.41.59.51 0 1.02-.2 1.41-.59l7.78-7.78 2.81-2.81c.8-.78.8-2.07 0-2.86zM5.41 20L4 18.59l7.72-7.72 1.47 1.35L5.41 20z\"/>\n",
              "  </svg>\n",
              "      </button>\n",
              "      \n",
              "  <style>\n",
              "    .colab-df-container {\n",
              "      display:flex;\n",
              "      flex-wrap:wrap;\n",
              "      gap: 12px;\n",
              "    }\n",
              "\n",
              "    .colab-df-convert {\n",
              "      background-color: #E8F0FE;\n",
              "      border: none;\n",
              "      border-radius: 50%;\n",
              "      cursor: pointer;\n",
              "      display: none;\n",
              "      fill: #1967D2;\n",
              "      height: 32px;\n",
              "      padding: 0 0 0 0;\n",
              "      width: 32px;\n",
              "    }\n",
              "\n",
              "    .colab-df-convert:hover {\n",
              "      background-color: #E2EBFA;\n",
              "      box-shadow: 0px 1px 2px rgba(60, 64, 67, 0.3), 0px 1px 3px 1px rgba(60, 64, 67, 0.15);\n",
              "      fill: #174EA6;\n",
              "    }\n",
              "\n",
              "    [theme=dark] .colab-df-convert {\n",
              "      background-color: #3B4455;\n",
              "      fill: #D2E3FC;\n",
              "    }\n",
              "\n",
              "    [theme=dark] .colab-df-convert:hover {\n",
              "      background-color: #434B5C;\n",
              "      box-shadow: 0px 1px 3px 1px rgba(0, 0, 0, 0.15);\n",
              "      filter: drop-shadow(0px 1px 2px rgba(0, 0, 0, 0.3));\n",
              "      fill: #FFFFFF;\n",
              "    }\n",
              "  </style>\n",
              "\n",
              "      <script>\n",
              "        const buttonEl =\n",
              "          document.querySelector('#df-f180ad5b-0f34-476d-a127-74fd7232a8f8 button.colab-df-convert');\n",
              "        buttonEl.style.display =\n",
              "          google.colab.kernel.accessAllowed ? 'block' : 'none';\n",
              "\n",
              "        async function convertToInteractive(key) {\n",
              "          const element = document.querySelector('#df-f180ad5b-0f34-476d-a127-74fd7232a8f8');\n",
              "          const dataTable =\n",
              "            await google.colab.kernel.invokeFunction('convertToInteractive',\n",
              "                                                     [key], {});\n",
              "          if (!dataTable) return;\n",
              "\n",
              "          const docLinkHtml = 'Like what you see? Visit the ' +\n",
              "            '<a target=\"_blank\" href=https://colab.research.google.com/notebooks/data_table.ipynb>data table notebook</a>'\n",
              "            + ' to learn more about interactive tables.';\n",
              "          element.innerHTML = '';\n",
              "          dataTable['output_type'] = 'display_data';\n",
              "          await google.colab.output.renderOutput(dataTable, element);\n",
              "          const docLink = document.createElement('div');\n",
              "          docLink.innerHTML = docLinkHtml;\n",
              "          element.appendChild(docLink);\n",
              "        }\n",
              "      </script>\n",
              "    </div>\n",
              "  </div>\n",
              "  "
            ],
            "text/plain": [
              "  Channel Region  Fresh   Milk  Grocery  Frozen  Detergents_Paper  Delicatessen\n",
              "0       2      3  12669   9656     7561     214              2674          1338\n",
              "1       2      3   7057   9810     9568    1762              3293          1776\n",
              "2       2      3   6353   8808     7684    2405              3516          7844\n",
              "3       1      3  13265   1196     4221    6404               507          1788\n",
              "4       2      3  22615   5410     7198    3915              1777          5185\n",
              "5       2      3   9413   8259     5126     666              1795          1451\n",
              "6       2      3  12126   3199     6975     480              3140           545\n",
              "7       2      3   7579   4956     9426    1669              3321          2566\n",
              "8       1      3   5963   3648     6192     425              1716           750\n",
              "9       2      3   6006  11093    18881    1159              7425          2098"
            ]
          },
          "metadata": {},
          "execution_count": 25
        }
      ]
    },
    {
      "cell_type": "code",
      "source": [
        "numeric_columns"
      ],
      "metadata": {
        "colab": {
          "base_uri": "https://localhost:8080/"
        },
        "id": "LOjNSD9FXOf7",
        "outputId": "559d1274-3cb1-4380-9653-dd012bd57e43"
      },
      "execution_count": null,
      "outputs": [
        {
          "output_type": "execute_result",
          "data": {
            "text/plain": [
              "['Fresh', 'Milk', 'Grocery', 'Frozen', 'Detergents_Paper', 'Delicatessen']"
            ]
          },
          "metadata": {},
          "execution_count": 26
        }
      ]
    },
    {
      "cell_type": "markdown",
      "source": [
        "### Plotting the box plot, to check the outliers in the original dataframe., and comaring it with the new dataframe after removing outliers"
      ],
      "metadata": {
        "id": "8FURRd0hzQdO"
      }
    },
    {
      "cell_type": "code",
      "source": [
        "fig,ax = plt.subplots(2,6,figsize=(15,8))\n",
        "for i,df in enumerate([original_numerical_df,dataset_after_removing_outliers]):\n",
        "  \n",
        "    for j, col in enumerate(numeric_columns):\n",
        "        sns.boxplot(data = df, y=col,ax=ax[i][j])"
      ],
      "metadata": {
        "colab": {
          "base_uri": "https://localhost:8080/",
          "height": 472
        },
        "id": "pi-kukWSbhfA",
        "outputId": "2b9989a9-b409-48f5-8e4b-e2214c6ee6fb"
      },
      "execution_count": null,
      "outputs": [
        {
          "output_type": "display_data",
          "data": {
            "image/png": "[encoded data removed]",
            "text/plain": [
              "<Figure size 1080x576 with 12 Axes>"
            ]
          },
          "metadata": {
            "needs_background": "light"
          }
        }
      ]
    },
    {
      "cell_type": "markdown",
      "source": [
        "### Conclusion / Observations :\n",
        "\n",
        "1. The initial dataset contains 440 records with `8` features\n",
        "2. There are total `6` numerical features & `2` categorical features\n",
        "3. The original spark dataframe has the datatypes of strings\n",
        "4. The numerical features were converted into IntegerType using cast function\n",
        "5. Created a customized function to identify outliers in each record\n",
        "6. Applyng the above customized function, enables us to identify total outliers in each record, based on each feature\n",
        "7. Filtering the dataset based on the total outliers which are <=1, to eliminate the records with more than 2 outliers\n",
        "8. The new dataframe, contains `399` records after removing the outliers against `440` records in the inital data frame\n",
        "9. Comparing the outliers from the original dataset to the new dataset after outlier removal using a box plot\n",
        "10. There are still some outliers available in the dataset., even after removing majority of the outliers.\n",
        "11. This shows that the data is skewed, however, the majority of the outliers are removed\n",
        "\n"
      ],
      "metadata": {
        "id": "e2CKAeA7zc4t"
      }
    },
    {
      "cell_type": "code",
      "source": [
        ""
      ],
      "metadata": {
        "id": "odXmJSpR10Z-"
      },
      "execution_count": null,
      "outputs": []
    }
  ]
}